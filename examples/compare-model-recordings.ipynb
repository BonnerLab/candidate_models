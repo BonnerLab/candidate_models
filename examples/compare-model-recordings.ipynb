{
 "cells": [
  {
   "cell_type": "markdown",
   "metadata": {},
   "source": [
    "### Single model"
   ]
  },
  {
   "cell_type": "code",
   "execution_count": 7,
   "metadata": {},
   "outputs": [
    {
     "name": "stdout",
     "output_type": "stream",
     "text": [
      "center\n <xarray.DataAssembly (layer: 7, region: 2)>\narray([[0.349049, 0.58051 ],\n       [0.451555, 0.589968],\n       [0.481759, 0.581112],\n       [0.496249, 0.542313],\n       [0.523878, 0.482408],\n       [0.480724, 0.385361],\n       [0.424411, 0.278921]])\nCoordinates:\n  * layer    (layer) object 'features.2' 'features.5' 'features.7' ...\n  * region   (region) object 'IT' 'V4'\n\nlayer max\n <xarray.DataAssembly (region: 2)>\narray([0.523878, 0.589968])\nCoordinates:\n  * region   (region) object 'IT' 'V4'\n"
     ]
    }
   ],
   "source": [
    "# Scoring a model on neural data can be done in a single line using the `score_physiology` method.\n",
    "# This call is agnostic of a specific model implementation, it will simply look up the model name \n",
    "# in `neurality.models.models` and use the implementation defined there (also see `examples/model-activations.ipynb`).\n",
    "# By default, the pre-defined layers of a model will be used to retrieve the activations, \n",
    "# but you can also pass your own.\n",
    "# Just like with the model implementations, the result of this method call will be cached \n",
    "# so that it only needs to be computed once.\n",
    "\n",
    "from neurality import score_physiology\n",
    "\n",
    "score = score_physiology(model='alexnet', neural_data='dicarlo.Majaj2015')\n",
    "# the resulting score object now contains three fields: `center`, `error` and `values`.\n",
    "# `values` are the raw scores across cross-validations and possibly neurons.\n",
    "# The `center` and `error` then are computed over the raw `values` \n",
    "# and yield e.g. mean and standard deviation in a unified way so that plots across models can be compared.\n",
    "# In the default case, there will be one score for each combination of layers and brain regions.\n",
    "print(\"center\\n\", score.center)\n",
    "# In the Brain-Score paper, we reported the maximum score across layers, i.e.:\n",
    "print(\"\\nlayer max\\n\", score.center.max('layer'))\n"
   ]
  },
  {
   "cell_type": "markdown",
   "metadata": {},
   "source": [
    "### Many models"
   ]
  },
  {
   "cell_type": "code",
   "execution_count": 19,
   "metadata": {
    "collapsed": true
   },
   "outputs": [
    {
     "data": {
      "text/plain": [
       "Text(0,0.5,'Neural Predictivity')"
      ]
     },
     "execution_count": 19,
     "metadata": {},
     "output_type": "execute_result"
    },
    {
     "data": {
      "image/png": "[encoded data removed]",
      "text/plain": [
       "<Figure size 432x288 with 1 Axes>"
      ]
     },
     "metadata": {},
     "output_type": "display_data"
    }
   ],
   "source": [
    "from collections import OrderedDict\n",
    "%matplotlib inline\n",
    "\n",
    "# The power of this framework partly stems from the ability to quickly score many models.\n",
    "# In the following, we will reproduce Figure 2 from the paper for IT.\n",
    "from matplotlib import pyplot\n",
    "from neurality import score_physiology\n",
    "from neurality.models import models_meta\n",
    "\n",
    "models_performance = {row['model']: row['top1'] * 100 for _, row in models_meta.iterrows() if not row['model'].startswith('basenet')\n",
    "                      # the TF Slim implementation of ResNets v1 is potentially erroneous, so we exclude them\n",
    "                      and row['model'] not in ['resnet-50_v1', 'resnet-101_v1', 'resnet-101_v2', 'resnet-152_v1']}\n",
    "model_it_score_means, model_it_score_errs = OrderedDict(), OrderedDict()\n",
    "for model in models_performance:\n",
    "    # score the model\n",
    "    score = score_physiology(model=model, neural_data='dicarlo.Majaj2015')\n",
    "    # ignore V4, only plot the IT score\n",
    "    it_score = score.center.sel(region='IT')\n",
    "    # use the best layer's score as the model's score\n",
    "    max_score = it_score.max('layer')\n",
    "    max_layer = it_score.where(it_score == max_score, drop=True)['layer']\n",
    "    model_it_score_means[model] = max_score\n",
    "    model_it_score_errs[model] = score.error.sel(region='IT', layer=max_layer)\n",
    "# plot\n",
    "x, y, err = list(models_performance.values()), list(model_it_score_means.values()), list(model_it_score_errs.values())\n",
    "pyplot.scatter(x, y, color='#ff3232')\n",
    "pyplot.errorbar(x, y, yerr=err, color='#ff3232', linestyle='None')\n",
    "pyplot.ylim([.5, .9])\n",
    "pyplot.xlabel('Imagenet performance(% top-1)')\n",
    "pyplot.ylabel('Neural Predictivity')\n"
   ]
  }
 ],
 "metadata": {
  "kernelspec": {
   "display_name": "Python 2",
   "language": "python",
   "name": "python2"
  },
  "language_info": {
   "codemirror_mode": {
    "name": "ipython",
    "version": 2
   },
   "file_extension": ".py",
   "mimetype": "text/x-python",
   "name": "python",
   "nbconvert_exporter": "python",
   "pygments_lexer": "ipython2",
   "version": "2.7.6"
  }
 },
 "nbformat": 4,
 "nbformat_minor": 0
}
