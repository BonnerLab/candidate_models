{
 "cells": [
  {
   "cell_type": "code",
   "execution_count": 7,
   "metadata": {},
   "outputs": [
    {
     "name": "stdout",
     "output_type": "stream",
     "text": [
      "center\n <xarray.DataAssembly (layer: 7, region: 2)>\narray([[0.349049, 0.58051 ],\n       [0.451555, 0.589968],\n       [0.481759, 0.581112],\n       [0.496249, 0.542313],\n       [0.523878, 0.482408],\n       [0.480724, 0.385361],\n       [0.424411, 0.278921]])\nCoordinates:\n  * layer    (layer) object 'features.2' 'features.5' 'features.7' ...\n  * region   (region) object 'IT' 'V4'\n\nlayer max\n <xarray.DataAssembly (region: 2)>\narray([0.523878, 0.589968])\nCoordinates:\n  * region   (region) object 'IT' 'V4'\n"
     ]
    }
   ],
   "source": [
    "# Scoring a model on neural data can be done in a single line using the `score_physiology` method.\n",
    "# This call is agnostic of a specific model implementation, it will simply look up the model name \n",
    "# in `neurality.models.models` and use the implementation defined there (also see `examples/model-activations.ipynb`).\n",
    "# By default, the pre-defined layers of a model will be used to retrieve the activations, \n",
    "# but you can also pass your own.\n",
    "# Just like with the model implementations, the result of this method call will be cached \n",
    "# so that it only needs to be computed once.\n",
    "\n",
    "from neurality import score_physiology\n",
    "\n",
    "score = score_physiology(model='alexnet', neural_data='dicarlo.Majaj2015')\n",
    "# the resulting score object now contains three fields: `center`, `error` and `values`.\n",
    "# `values` are the raw scores across cross-validations and possibly neurons.\n",
    "# The `center` and `error` then are computed over the raw `values` \n",
    "# and yield e.g. mean and standard deviation in a unified way so that plots across models can be compared.\n",
    "# In the default case, there will be one score for each combination of layers and brain regions.\n",
    "print(\"center\\n\", score.center)\n",
    "# In the Brain-Score paper, we reported the maximum score across layers, i.e.:\n",
    "print(\"\\nlayer max\\n\", score.center.max('layer'))\n"
   ]
  },
  {
   "cell_type": "code",
   "execution_count": null,
   "metadata": {},
   "outputs": [],
   "source": []
  }
 ],
 "metadata": {
  "kernelspec": {
   "display_name": "Python 2",
   "language": "python",
   "name": "python2"
  },
  "language_info": {
   "codemirror_mode": {
    "name": "ipython",
    "version": 2
   },
   "file_extension": ".py",
   "mimetype": "text/x-python",
   "name": "python",
   "nbconvert_exporter": "python",
   "pygments_lexer": "ipython2",
   "version": "2.7.6"
  }
 },
 "nbformat": 4,
 "nbformat_minor": 0
}
