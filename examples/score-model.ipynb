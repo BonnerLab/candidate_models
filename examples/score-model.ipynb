{
 "cells": [
  {
   "cell_type": "markdown",
   "metadata": {},
   "source": [
    "## Custom models"
   ]
  },
  {
   "cell_type": "markdown",
   "metadata": {},
   "source": [
    "To score your model, simply wrap it in one of the available wrappers (PyTorch, TensorFlow or Keras) and pass it to a scoring method."
   ]
  },
  {
   "cell_type": "markdown",
   "metadata": {},
   "source": [
    "### PyTorch"
   ]
  },
  {
   "cell_type": "markdown",
   "metadata": {},
   "source": [
    "Let's define a simple convolution-relu-linear-relu model."
   ]
  },
  {
   "cell_type": "code",
   "execution_count": 1,
   "metadata": {},
   "outputs": [
    {
     "name": "stdout",
     "output_type": "stream",
     "text": [
      "caching\n"
     ]
    },
    {
     "name": "stderr",
     "output_type": "stream",
     "text": [
      "Using TensorFlow backend.\n"
     ]
    },
    {
     "name": "stderr",
     "output_type": "stream",
     "text": [
      "cornet_s already in models (<function cornet_s at 0x7f8758da5400> - overwriting\n"
     ]
    },
    {
     "name": "stdout",
     "output_type": "stream",
     "text": [
      "caching\n"
     ]
    }
   ],
   "source": [
    "import numpy as np\n",
    "import torch\n",
    "from torch import nn\n",
    "\n",
    "from candidate_models.models.implementations.pytorch import PytorchModel\n",
    "\n",
    "\n",
    "class MyModel(nn.Module):\n",
    "    def __init__(self):\n",
    "        super(MyModel, self).__init__()\n",
    "        self.conv1 = torch.nn.Conv2d(in_channels=3, out_channels=2, kernel_size=3)\n",
    "        self.relu1 = torch.nn.ReLU()\n",
    "        linear_input_size = np.power((224 - 3 + 2 * 0) / 1 + 1, 2) * 2\n",
    "        self.linear = torch.nn.Linear(int(linear_input_size), 1000)\n",
    "        self.relu2 = torch.nn.ReLU()  # can't get named ReLU output otherwise\n",
    "\n",
    "    def forward(self, x):\n",
    "        x = self.conv1(x)\n",
    "        x = self.relu1(x)\n",
    "        x = x.view(x.size(0), -1)\n",
    "        x = self.linear(x)\n",
    "        x = self.relu2(x)\n",
    "        return x\n"
   ]
  },
  {
   "cell_type": "markdown",
   "metadata": {},
   "source": [
    "Next, wrap the model in the PyTorch wrapper."
   ]
  },
  {
   "cell_type": "code",
   "execution_count": 2,
   "metadata": {},
   "outputs": [],
   "source": [
    "from candidate_models.models.implementations.pytorch import PytorchModel\n",
    "\n",
    "\n",
    "class MyModelWrapper(PytorchModel):\n",
    "    def __init__(self, *args, **kwargs):\n",
    "        super().__init__('mymodel', *args, **kwargs)\n",
    "\n",
    "    def _create_model(self, weights):\n",
    "        my_model = MyModel()\n",
    "        assert weights is None  # weight loading would go here\n",
    "        return my_model"
   ]
  },
  {
   "cell_type": "markdown",
   "metadata": {},
   "source": [
    "Finally, pass the model to the scoring method and pass an identifier (for caching results)."
   ]
  },
  {
   "cell_type": "code",
   "execution_count": 3,
   "metadata": {},
   "outputs": [
    {
     "name": "stdout",
     "output_type": "stream",
     "text": [
      "<xarray.DataAssembly (aggregation: 2, region: 2, layer: 2)>\narray([[[0.154412, 0.192535],\n        [0.25282 , 0.281037]],\n\n       [[0.004922, 0.005747],\n        [0.006881, 0.006893]]])\nCoordinates:\n  * aggregation  (aggregation) object 'center' 'error'\n  * layer        (layer) object 'linear' 'relu2'\n  * region       (region) object 'IT' 'V4'\n"
     ]
    }
   ],
   "source": [
    "from candidate_models import score_model\n",
    "\n",
    "score = score_model(model_identifier='test_pytorch', model=MyModelWrapper, \n",
    "                    layers=['linear', 'relu2'], weights=None, pca_components=None)\n",
    "print(score.aggregation)"
   ]
  },
  {
   "cell_type": "markdown",
   "metadata": {},
   "source": [
    "The aggregated score holds scores across layers and regions (for an explanation of what the score entails, see [brain-score/examples/metrics.ipynb](https://github.com/dicarlolab/brain-score/blob/master/examples/metrics.ipynb))."
   ]
  },
  {
   "cell_type": "markdown",
   "metadata": {},
   "source": [
    "### TensorFlow Slim"
   ]
  },
  {
   "cell_type": "markdown",
   "metadata": {},
   "source": [
    "Let's define a simple model with a convolution and pooling."
   ]
  },
  {
   "cell_type": "code",
   "execution_count": 2,
   "metadata": {},
   "outputs": [],
   "source": [
    "import tensorflow as tf\n",
    "slim = tf.contrib.slim\n",
    "\n",
    "\n",
    "def _create_tf_model(inputs):\n",
    "    with tf.variable_scope('my_model', values=[inputs]) as sc:\n",
    "        end_points_collection = sc.original_name_scope + '_end_points'\n",
    "        # Collect outputs for conv2d, fully_connected and max_pool2d.\n",
    "        with slim.arg_scope([slim.conv2d, slim.fully_connected, slim.max_pool2d],\n",
    "                            outputs_collections=[end_points_collection]):\n",
    "            net = slim.conv2d(inputs, 64, [11, 11], 4, padding='VALID', scope='conv1')\n",
    "            net = slim.max_pool2d(net, [5, 5], 5, scope='pool1')\n",
    "            net = slim.max_pool2d(net, [3, 3], 2, scope='pool2')\n",
    "            end_points = slim.utils.convert_collection_to_dict(end_points_collection)\n",
    "            return net, end_points"
   ]
  },
  {
   "cell_type": "markdown",
   "metadata": {},
   "source": [
    "Next, wrap the model in the TensorFlow wrapper."
   ]
  },
  {
   "cell_type": "code",
   "execution_count": 3,
   "metadata": {},
   "outputs": [],
   "source": [
    "from candidate_models.models.implementations.tensorflow_slim import TensorflowSlimModel\n",
    "# requires you to have TF slim installed: https://github.com/tensorflow/tensorflow/tree/master/tensorflow/contrib/slim\n",
    "from preprocessing import vgg_preprocessing\n",
    "\n",
    "\n",
    "class MyModelWrapper(TensorflowSlimModel):\n",
    "    def _create_inputs(self, batch_size, image_size):\n",
    "        inputs = tf.placeholder(dtype=tf.float32, shape=[batch_size, image_size, image_size, 3])\n",
    "        preprocess_image = vgg_preprocessing.preprocess_image\n",
    "        return tf.map_fn(lambda image: preprocess_image(tf.image.convert_image_dtype(image, dtype=tf.uint8),\n",
    "                                                        image_size, image_size), inputs)\n",
    "\n",
    "    def _create_model(self, inputs):\n",
    "        return _create_tf_model(inputs)\n",
    "\n",
    "    def _restore(self, weights):\n",
    "        assert weights is None\n",
    "        init = tf.initialize_all_variables()\n",
    "        self._sess.run(init)\n"
   ]
  },
  {
   "cell_type": "markdown",
   "metadata": {},
   "source": [
    "Finally, pass the model to the scoring method and pass an identifier (for caching results)."
   ]
  },
  {
   "cell_type": "code",
   "execution_count": 4,
   "metadata": {},
   "outputs": [
    {
     "name": "stdout",
     "output_type": "stream",
     "text": [
      "<xarray.DataAssembly (region: 2, layer: 1)>\narray([[0.403759],\n       [0.435773]])\nCoordinates:\n    aggregation  <U6 'center'\n  * region       (region) object 'IT' 'V4'\n  * layer        (layer) <U14 'my_model/pool2'\n"
     ]
    }
   ],
   "source": [
    "from candidate_models import score_model\n",
    "\n",
    "score = score_model(model_identifier='test_tensorflow_slim', model=MyModelWrapper, \n",
    "                    layers=['my_model/pool2'], weights=None, pca_components=None)\n",
    "print(score.aggregation.sel(aggregation='center'))"
   ]
  },
  {
   "cell_type": "markdown",
   "metadata": {},
   "source": [
    "The aggregated score holds scores across layers and regions (for an explanation of what the score entails, see below)."
   ]
  },
  {
   "cell_type": "markdown",
   "metadata": {},
   "source": [
    "## Pre-defined models"
   ]
  },
  {
   "cell_type": "markdown",
   "metadata": {},
   "source": [
    "### Single model"
   ]
  },
  {
   "cell_type": "markdown",
   "metadata": {},
   "source": [
    "Scoring a model on neural data can be done in a single line using the `score_physiology` method.\n",
    "This call is agnostic of a specific model implementation, it will simply look up the model name \n",
    "in `neurality.models.models` and use the implementation defined there (also see `examples/model-activations.ipynb`).\n",
    "By default, the pre-defined layers of a model will be used to retrieve the activations, \n",
    "but you can also pass your own.\n",
    "Just like with the model implementations, the result of this method call will be cached \n",
    "so that it only needs to be computed once.\n"
   ]
  },
  {
   "cell_type": "code",
   "execution_count": 2,
   "metadata": {
    "collapsed": false
   },
   "outputs": [
    {
     "name": "stdout",
     "output_type": "stream",
     "text": [
      "Score(values=<xarray.DataAssembly (region: 2, layer: 7, split: 10, neuroid_id: 256)>\narray([[[[0.368529, ...,      nan],\n         ...,\n         [0.361907, ...,      nan]],\n\n        ...,\n\n        [[0.345111, ...,      nan],\n         ...,\n         [0.310121, ...,      nan]]],\n\n\n       [[[     nan, ..., 0.375341],\n         ...,\n         [     nan, ..., 0.401544]],\n\n        ...,\n\n        [[     nan, ..., 0.515537],\n         ...,\n         [     nan, ..., 0.475535]]]])\nCoordinates:\n  * layer       (layer) object 'classifier.2' 'classifier.5' 'features.12' ...\n  * neuroid_id  (neuroid_id) object 'Chabo_L_A_2_4' 'Chabo_L_A_3_3' ...\n  * region      (region) object 'IT' 'V4'\n  * split       (split) int64 0 1 2 3 4 5 6 7 8 9,aggregation=<xarray.DataAssembly (aggregation: 2, region: 2, layer: 7)>\narray([[[0.559135, 0.514513, 0.588901, 0.376877, 0.512878, 0.537404,\n         0.548965],\n        [0.425916, 0.34737 , 0.486357, 0.625188, 0.63075 , 0.626955,\n         0.574051]],\n\n       [[0.003256, 0.002839, 0.002872, 0.006124, 0.003883, 0.003575,\n         0.003164],\n        [0.005559, 0.008236, 0.006089, 0.004513, 0.004209, 0.00393 ,\n         0.00437 ]]])\nCoordinates:\n  * aggregation  (aggregation) object 'center' 'error'\n  * layer        (layer) object 'classifier.2' 'classifier.5' 'features.12' ...\n  * region       (region) object 'IT' 'V4')\n"
     ]
    }
   ],
   "source": [
    "from candidate_models import score_model\n",
    "\n",
    "score = score_model(model='alexnet', benchmark='dicarlo.Majaj2015')\n",
    "print(score)\n"
   ]
  },
  {
   "cell_type": "markdown",
   "metadata": {},
   "source": [
    "The resulting score object now contains two fields: `aggregation` and `values`.\n",
    "\n",
    "`values` are the raw scores across cross-validations and neuroids.\n",
    "The `aggregation` combines these raw `values` into \"center\" (mean in this case) and \"error\" (standard-error-of-the-mean in this case).\n",
    "In the default case, there will be one score for each combination of layers and brain regions.\n",
    "\n",
    "Since each sub-score (aggregation and values) is an xarray again, we can easily filter:"
   ]
  },
  {
   "cell_type": "code",
   "execution_count": 5,
   "metadata": {},
   "outputs": [
    {
     "name": "stdout",
     "output_type": "stream",
     "text": [
      "center\n <xarray.DataAssembly (region: 2, layer: 7)>\narray([[0.559135, 0.514513, 0.588901, 0.376877, 0.512878, 0.537404, 0.548965],\n       [0.425916, 0.34737 , 0.486357, 0.625188, 0.63075 , 0.626955, 0.574051]])\nCoordinates:\n    aggregation  <U6 'center'\n  * layer        (layer) object 'classifier.2' 'classifier.5' 'features.12' ...\n  * region       (region) object 'IT' 'V4'\n"
     ]
    }
   ],
   "source": [
    "center = score.aggregation.sel(aggregation='center')\n",
    "print(\"center\\n\", center)"
   ]
  },
  {
   "cell_type": "markdown",
   "metadata": {},
   "source": [
    "In the Brain-Score paper, we reported the maximum score across layers, i.e.:"
   ]
  },
  {
   "cell_type": "code",
   "execution_count": 6,
   "metadata": {},
   "outputs": [
    {
     "name": "stdout",
     "output_type": "stream",
     "text": [
      "\nlayer max\n <xarray.DataAssembly (region: 2)>\narray([0.588901, 0.63075 ])\nCoordinates:\n    aggregation  <U6 'center'\n  * region       (region) object 'IT' 'V4'\n"
     ]
    }
   ],
   "source": [
    "print(\"\\nlayer max\\n\", center.max('layer'))"
   ]
  },
  {
   "cell_type": "markdown",
   "metadata": {},
   "source": [
    "### Many models"
   ]
  },
  {
   "cell_type": "code",
   "execution_count": 19,
   "metadata": {
    "collapsed": true
   },
   "outputs": [
    {
     "data": {
      "text/plain": [
       "Text(0,0.5,'Neural Predictivity')"
      ]
     },
     "execution_count": 19,
     "metadata": {},
     "output_type": "execute_result"
    },
    {
     "data": {
      "image/png": "[encoded data removed]",
      "text/plain": [
       "<Figure size 432x288 with 1 Axes>"
      ]
     },
     "metadata": {},
     "output_type": "display_data"
    }
   ],
   "source": [
    "from collections import OrderedDict\n",
    "%matplotlib inline\n",
    "\n",
    "# The power of this framework partly stems from the ability to quickly score many models.\n",
    "# In the following, we will reproduce Figure 2 from the paper for IT.\n",
    "from matplotlib import pyplot\n",
    "from neurality import score_physiology\n",
    "from neurality.models import models_meta\n",
    "\n",
    "models_performance = {row['model']: row['top1'] * 100 for _, row in models_meta.iterrows() if not row['model'].startswith('basenet')\n",
    "                      # the TF Slim implementation of ResNets v1 is potentially erroneous, so we exclude them\n",
    "                      and row['model'] not in ['resnet-50_v1', 'resnet-101_v1', 'resnet-101_v2', 'resnet-152_v1']}\n",
    "model_it_score_means, model_it_score_errs = OrderedDict(), OrderedDict()\n",
    "for model in models_performance:\n",
    "    # score the model\n",
    "    score = score_physiology(model=model, neural_data='dicarlo.Majaj2015')\n",
    "    # ignore V4, only plot the IT score\n",
    "    it_score = score.center.sel(region='IT')\n",
    "    # use the best layer's score as the model's score\n",
    "    max_score = it_score.max('layer')\n",
    "    max_layer = it_score.where(it_score == max_score, drop=True)['layer']\n",
    "    model_it_score_means[model] = max_score\n",
    "    model_it_score_errs[model] = score.error.sel(region='IT', layer=max_layer)\n",
    "# plot\n",
    "x, y, err = list(models_performance.values()), list(model_it_score_means.values()), list(model_it_score_errs.values())\n",
    "pyplot.scatter(x, y, color='#ff3232')\n",
    "pyplot.errorbar(x, y, yerr=err, color='#ff3232', linestyle='None')\n",
    "pyplot.ylim([.5, .9])\n",
    "pyplot.xlabel('Imagenet performance(% top-1)')\n",
    "pyplot.ylabel('Neural Predictivity')\n"
   ]
  }
 ],
 "metadata": {
  "kernelspec": {
   "display_name": "Python 2",
   "language": "python",
   "name": "python2"
  },
  "language_info": {
   "codemirror_mode": {
    "name": "ipython",
    "version": 2
   },
   "file_extension": ".py",
   "mimetype": "text/x-python",
   "name": "python",
   "nbconvert_exporter": "python",
   "pygments_lexer": "ipython2",
   "version": "2.7.6"
  }
 },
 "nbformat": 4,
 "nbformat_minor": 0
}
